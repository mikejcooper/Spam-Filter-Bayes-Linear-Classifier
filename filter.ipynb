{
 "cells": [
  {
   "cell_type": "markdown",
   "metadata": {},
   "source": [
    "# Assignment : Spam Filter\n",
    "## Description\n",
    "This assignment is near-final modulo some small adjustments (6 Nov '16)\n",
    "In this assignment, you will discover that in many practical machine learning problems implementing the learning algorithm is often only a small part of the overall system. Thus to get a high mark for this assignment you need to implement any of the more advanced classification techniques or clever pre-processing methods. You will find plenty of them on the internet. If you do not know where to look for them, ask Google ;-).\n",
    "\n",
    "Here your task is to build the standard (i.e. multinomial) Naive Bayes text classifier described during the lectures. You should test your program using the automatic marking software (described below), so it is critically important that it follows the specifications in detail.\n",
    "\n",
    "You will train your classifier on real-world e-mails, which you can download from here. Each training e-mail is stored in a separate file. The names of spam training e-mails start with spam, while the names of ham e-mails start with ham.\n",
    "\n",
    "## Marking criteria\n",
    "\n",
    "Part 1 (40%):\n",
    "    - Your program classifies the testing set with an accuracy significantly higher than random within 30 minutes\n",
    "    - Use very simple data preprocessing so that the emails can be read into the Naive Bayes (remove everything else other than words from emails)\n",
    "    - Write simple Naive Bayes multinomial classifier or use an implementation from a library of your choice\n",
    "    - Classify the data\n",
    "    - Report your results with a metric (e.g. accuracy) and method (e.g. cross validation) of your choice\n",
    "    - Choose a baseline and compare your classifier against it\n",
    "\n",
    "Part 2 (30%):\n",
    "    - Use some smart feature processing techniques to improve the classification results\n",
    "    - Compare the classification results with and without these techniques\n",
    "    - Analyse how the classification results depend on the parameters (if available) of chosen techniques\n",
    "    - Compare (statistically) your results against any other algorithm of your choice (use can use any library); compare and contrast results, ensure fair comparison\n",
    "\n",
    "Part 3 (30%):\n",
    "    - Calibration (15%): calibrate Naive Bayes probabilities, such that they result in low mean squared error\n",
    "    - Naive Bayes extension (15%): modify the algorithm in some interesting way (e.g. weighted Naive Bayes)\n",
    "    \n",
    "\n",
    "** Convert from .ipynb to .py : ** $ ipython nbconvert --to python filter.ipynb\n",
    "\n",
    "** BeautifulSoup: ** $ pip install beautifulsoup4\n",
    "\n",
    "\n"
   ]
  },
  {
   "cell_type": "code",
   "execution_count": 834,
   "metadata": {
    "collapsed": false
   },
   "outputs": [],
   "source": [
    "# Import all necessary packages\n",
    "import math\n",
    "import numpy as np\n",
    "import pandas as pd\n",
    "from bs4 import BeautifulSoup\n",
    "from nltk.corpus import stopwords\n",
    "from email import message_from_string\n",
    "import nltk\n",
    "\n",
    "\n",
    "\n",
    "import os, re\n",
    "\n",
    "\n"
   ]
  },
  {
   "cell_type": "markdown",
   "metadata": {},
   "source": [
    "** Part 1 Filtering **"
   ]
  },
  {
   "cell_type": "code",
   "execution_count": 835,
   "metadata": {
    "collapsed": false
   },
   "outputs": [
    {
     "data": {
      "text/plain": [
       "u'you are receiving this email because you signed up to receive one of our free reports if you would prefer not to receive messages of this type please unsubscribe by following the instructions at the bottom of this message dear investor thank you again for requesting our free special report the one stock that keeps wall street buzzing we began the motley fool in with the idea that investors like you deserved better better than wall streets alltoooften biased research better than analysts who speak in secret codes allowing them to hedge or spin any recommendation and better than what passes for full financial disclosure in big business today given a level playing field we believe that regular folks like us and you can do quite well in the stock market why put trust in conflicted information from others when you could count on your own abilities and potentially blow the pros away more than two million people visit our foolcom web site each month we spend a great deal of time at foolcom instructing people how to invest but not so much about where to invest and thats why we created the motley fool stock advisor you are cordially invited to join us as a charter subscriber to motley fool stock advisor as we focus on the great companies of the us stock market in the same honest noholdsbarred style that has made foolcom so popular with investors well bring you our best stock recommendations and other financial insights to help you achieve your financial dreams as a charter subscriber youll get the motley fool stock advisor newsletter delivered to your home each month a personal communication from us david tom gardner well tell you exactly why we believe a stock is poised for significant growth and give you all the facts to back that analysis up youll get the good the bad and the ugly on every recommendation we make so you can make each investing decision with great confidence of course theres more to our motley fool stock advisor than our monthly newsletter youll also receive our monthly betweenissue email fool flash to help you take full advantage of breaking opportunities and you can log on anytime at the motley fool stock advisor subscriberonly web site featuring current back newsletter issuesfull updates on our selected stocksq aand more best of all you can try our motley fool stock advisor entirely riskfree the motley fool community has always been based upon trust and value principles we intend to continue here so we want to give you plenty of time to decide if our motley fool stock advisor is a valuable investing tool for you you can try our motley fool stock advisor for six full months riskfree if we dont prove its worth to you it doesnt cost you a dime and you have our word on that so join us now its going to be fun its going to be exciting and its going to be an enriching experience you wont want to miss to join us riskfree as a charter subscriber to david tom gardners motley fool stock advisor simply click here now foolishly yours david tom gardner the motley fool ps click here to check out the free bonuses you get when you subscribe special reports videos online seminars all yours to enjoy and keep even if you cancel your trial subscription to our motley fool stock advisor remember you have six full months to evaluate our new service dont like what you see dont make the profits you expectthen it doesnt cost you a dime so this invitation is truly riskfree click here now how to unsubscribe we hope this email message is of value to you if however you do not wish to receive any of our future messages please unsubscribe by going to the following web address note if you unsubscribe by replying to this message please use unsubscribe or remove in the subject line thu jul'"
      ]
     },
     "execution_count": 835,
     "metadata": {},
     "output_type": "execute_result"
    }
   ],
   "source": [
    "\n",
    "# Removes header from email if present\n",
    "\n",
    "filter_part1_cache = {}\n",
    "\n",
    "def get_body(msg):\n",
    "    if isinstance(msg, str):\n",
    "        return msg\n",
    "    elif msg.is_multipart():\n",
    "        payloads = ''\n",
    "        for payload in msg.get_payload():\n",
    "            # if payload.is_multipart(): ...\n",
    "            payloads += ' ' + get_body(payload)\n",
    "        return payloads\n",
    "    else:\n",
    "        return msg.get_payload()\n",
    "    \n",
    "    \n",
    "# Returns text containing only words (lowercase)\n",
    "def remove_extras(text):\n",
    "    brackets = \"\\([^)]*\\)\"\n",
    "    email_address = \"([\\w.-]+)@([\\w.-]+)\"\n",
    "    web_address = \"http[s]?://(?:[a-zA-Z]|[0-9]|[$-_@.&+]|[!*\\(\\),]|(?:%[0-9a-fA-F][0-9a-fA-F]))+\"\n",
    "    numbers = \"\\d+\"\n",
    "    alphanumeric = \"([^\\s\\w]|_)+\"\n",
    "    whitespace = \"\\s+\"\n",
    "\n",
    "    text = re.sub(email_address, '', text)\n",
    "    text = re.sub(web_address, '', text)\n",
    "    text = re.sub(numbers, '', text)\n",
    "    text = re.sub(alphanumeric, '', text)\n",
    "    text = re.sub(whitespace, ' ', text).strip()\n",
    "    text = text.lower() # Lowercase\n",
    "    return text\n",
    "\n",
    "def simple_html_filter(html_doc):\n",
    "\n",
    "    soup = BeautifulSoup(str(html_doc), \"html.parser\")\n",
    "\n",
    "\n",
    "    for script in soup([\"script\", \"style\"]):\n",
    "        script.extract()    # rip it out\n",
    "        \n",
    "    text = soup.get_text()\n",
    "    return text\n",
    "\n",
    "def filter_stop_words(text):\n",
    "    text = ' '.join([word for word in text.split() if word not in stopwords.words('english')])\n",
    "    return text\n",
    "\n",
    "def filter_part1(string):\n",
    "    if hash(string) in filter_part1_cache:\n",
    "        return filter_part1_cache[hash(string)]\n",
    "    else:\n",
    "        email = message_from_string(string)\n",
    "        message = get_body(email)\n",
    "        message = simple_html_filter(message)\n",
    "        message = remove_extras(message)\n",
    "        filter_part1_cache[hash(string)] = message\n",
    "        return message\n",
    "\n",
    "\n",
    "# ---------------------\n",
    "\n",
    "# Example\n",
    "\n",
    "with open('training_data/ham000.txt') as f:\n",
    "    text_test = f.read()\n",
    "\n",
    "filter_part1(text_test)\n",
    "\n"
   ]
  },
  {
   "cell_type": "markdown",
   "metadata": {},
   "source": [
    "** Part 2 filtering **"
   ]
  },
  {
   "cell_type": "code",
   "execution_count": 839,
   "metadata": {
    "collapsed": false
   },
   "outputs": [],
   "source": [
    "from __future__ import division\n",
    "\n",
    "email_address = \"([\\w.-]+)@([\\w.-]+)\"\n",
    "web_address = \"http[s]?://(?:[a-zA-Z]|[0-9]|[$-_@.&+]|[!*\\(\\),]|(?:%[0-9a-fA-F][0-9a-fA-F]))+\"\n",
    "numbers = \"\\d+\"\n",
    "alphanumeric = r'[`\\-=~!@#$%^&*()_+\\[\\]{};\\'\\\\:\"|<,./<>?]'\n",
    "whitespace = \"\\s+\"\n",
    "exclam = r'[!]'\n",
    "\n",
    "# Returns text containing only words (lowercase)\n",
    "def remove_extras2(text):\n",
    "    text = re.sub(email_address, ' ' + str(hash('email')) + ' ', text)\n",
    "    text = re.sub(web_address, ' ' + str(hash('web')) + ' ', text)\n",
    "    text = re.sub(numbers, ' ' + str(hash('number')) + ' ', text)\n",
    "    text = re.sub(alphanumeric, ' ' + str(hash('alphanumeric')) + ' ', text)\n",
    "    text = re.sub(whitespace, ' ', text).strip()\n",
    "    text = text.lower() # Lowercase\n",
    "    return text\n",
    "\n",
    "# Threshold between 0 and 1\n",
    "def regex_ratio(string, regex):\n",
    "    num_of_chars = len(string)\n",
    "    num_of_chars_regex = len(re.findall(regex, string.encode('utf-8')))\n",
    "    ratio = num_of_chars_regex / num_of_chars\n",
    "    return ratio\n",
    "\n",
    "def get_subject(msg):\n",
    "    if isinstance(msg['subject'], str):\n",
    "        return msg['subject']\n",
    "    \n",
    "\n",
    "# Example \n",
    "with open('training_data/ham000.txt') as f:\n",
    "    text_test = f.read()\n",
    "\n",
    "# FEATURES\n",
    "msg = email.message_from_string(text_test)\n",
    "\n",
    "regex_ratio(get_body(msg), alphanumeric)\n",
    "regex_ratio(get_body(msg), numbers)\n",
    "regex_ratio(get_body(msg), web_address)\n",
    "regex_ratio(get_body(msg), email_address)\n",
    "regex_ratio(get_body(msg), whitespace)\n",
    "regex_ratio(get_body(msg), whitespace)\n",
    "regex_ratio(get_body(msg), exclam)\n",
    "subject = get_subject(msg)\n",
    "\n",
    "# print get_body(msg)\n",
    "\n"
   ]
  },
  {
   "cell_type": "code",
   "execution_count": 840,
   "metadata": {
    "collapsed": false
   },
   "outputs": [
    {
     "name": "stdout",
     "output_type": "stream",
     "text": [
      "tir 2650335965587150993 7218729848927513843 2650335965587150993 2650335965587150993 7218729848927513843 2650335965587150993 let us show success hom 2650335965587150993 2650335965587150993 2650335965587150993 liv prosp tim hist 2650335965587150993 turn profit 2650335965587150993 learn earn 2650335965587150993 7218729848927513843 fig hom 2650335965587150993 easy ev 2650335965587150993 plu 2650335965587150993 receiv fre gift 2650335965587150993 fre info visit web sit 2650335965587150993 click 2650335965587150993 2650335965587150993 2650335965587150993 font col 2650335965587150993 2650335965587150993 7218729848927513843 2650335965587150993 2650335965587150993 2650335965587150993 7218729848927513843 2650335965587150993 back 2650335965587150993 2650335965587150993 7218729848927513843 2650335965587150993 2650335965587150993 ffffff 2650335965587150993 styl 2650335965587150993 2650335965587150993 7218729848927513843 2650335965587150993 background 2650335965587150993 col 2650335965587150993 2650335965587150993 fffff 2650335965587150993 f 2650335965587150993 siz 2650335965587150993 2650335965587150993 7218729848927513843 2650335965587150993 7218729848927513843 ptsize 2650335965587150993 2650335965587150993 7218729848927513843 2650335965587150993 7218729848927513843 famy 2650335965587150993 2650335965587150993 7218729848927513843 2650335965587150993 sanss 2650335965587150993 fac 2650335965587150993 2650335965587150993 7218729848927513843 2650335965587150993 ar 2650335965587150993 lang 2650335965587150993 2650335965587150993 7218729848927513843 2650335965587150993 2650335965587150993 7218729848927513843 2650335965587150993 2650335965587150993 sent mess address subscrib da 2650335965587150993 tabas 2650335965587150993 wish remov 2650335965587150993 pleas click remov subscrib 2650335965587150993 list 2650335965587150993 ss 2650335965587150993 7218729848927513843 \n"
     ]
    }
   ],
   "source": [
    "from nltk.stem.porter import PorterStemmer\n",
    "from nltk.stem.lancaster import LancasterStemmer\n",
    "from nltk.stem import SnowballStemmer \n",
    "from geoip import geolite2\n",
    "\n",
    "filter_part2_cache = {}\n",
    "\n",
    "def do_stemming(text):\n",
    "    stemmed = \"\"\n",
    "    for word in text.split():\n",
    "#         stemmed += PorterStemmer().stem(word) + \" \"\n",
    "        stemmed += LancasterStemmer().stem(word) + \" \"\n",
    "    return stemmed\n",
    "    \n",
    "def get_source_country(email):\n",
    "    ips = re.findall( r'[0-9]+(?:\\.[0-9]+){3}', str(email) )\n",
    "\n",
    "    if len(ips) > 0:\n",
    "        match = geolite2.lookup(ips[0])\n",
    "        if match:\n",
    "            return str(match.country)\n",
    "    return ''\n",
    "\n",
    "\n",
    "def filter_part2(string):\n",
    "    if hash(string) in filter_part2_cache:\n",
    "        return filter_part2_cache[hash(string)]\n",
    "    else:\n",
    "        email = message_from_string(string)\n",
    "        message = get_body(email)\n",
    "        message = simple_html_filter(message)\n",
    "        message = remove_extras2(message)\n",
    "        message = filter_stop_words(message)\n",
    "        message = do_stemming(message)\n",
    "        filter_part2_cache[hash(string)] = message\n",
    "        return message\n",
    "\n",
    "# ---------------------\n",
    "\n",
    "# Example\n",
    "\n",
    "with open('training_data/spam036.txt') as f:\n",
    "    text_test = f.read()\n",
    "\n",
    "print(filter_part2(text_test))"
   ]
  },
  {
   "cell_type": "markdown",
   "metadata": {},
   "source": [
    "read in all documents and convert to a bag of words"
   ]
  },
  {
   "cell_type": "code",
   "execution_count": 841,
   "metadata": {
    "collapsed": false
   },
   "outputs": [],
   "source": [
    "import glob\n",
    "training_data = []\n",
    "training_labels = []\n",
    "training_filenames = []\n",
    "training_label_names = ['ham', 'spam']\n",
    "        \n",
    "# ham\n",
    "for filename in glob.glob('training_data/ham*.txt'):\n",
    "    f = open(filename, 'r')\n",
    "    training_data.append(f.read())\n",
    "    training_labels.append(0)\n",
    "    training_filenames.append(filename)\n",
    "\n",
    "# spam    \n",
    "for filename in glob.glob('training_data/spam*.txt'):\n",
    "    f = open(filename, 'r')\n",
    "    training_data.append(f.read())\n",
    "    training_labels.append(1)\n",
    "    training_filenames.append(filename)\n"
   ]
  },
  {
   "cell_type": "code",
   "execution_count": 844,
   "metadata": {
    "collapsed": false
   },
   "outputs": [],
   "source": [
    "from sklearn.pipeline import Pipeline\n",
    "from sklearn.naive_bayes import MultinomialNB\n",
    "from sklearn.feature_extraction.text import CountVectorizer\n",
    "from sklearn.feature_extraction.text import TfidfTransformer\n",
    "from sklearn.base import BaseEstimator\n",
    "\n",
    "class PreProcessor(BaseEstimator):\n",
    "    def __init__(self, part_name):\n",
    "        self.part_name = part_name\n",
    "        \n",
    "    def transform(self, X):\n",
    "        out = []\n",
    "        for item in X:\n",
    "            if self.part_name == 'part1':\n",
    "                data = filter_part1(item)\n",
    "            elif self.part_name == 'part2':\n",
    "                data = filter_part2(item)\n",
    "            else:\n",
    "                raise Exception('unknwon part name for PreProcessor') \n",
    "            out.append(data)\n",
    "        return out\n",
    "\n",
    "    def fit(self, X, y=None):\n",
    "        return self\n",
    "    \n",
    "class VectorAppender(BaseEstimator):\n",
    "    \n",
    "        \n",
    "    def transform(self, X):\n",
    "        for i, vector in enumerate(X):\n",
    "            msg = training_data[i]\n",
    "            body = get_body(message_from_string(msg))\n",
    "            vector.append(regex_ratio(body, alphanumeric))\n",
    "            vector.append(regex_ratio(body, numbers))\n",
    "            vector.append(regex_ratio(body, web_address))\n",
    "            vector.append(regex_ratio(body, email_address))\n",
    "            vector.append(regex_ratio(body, whitespace))\n",
    "            vector.append(regex_ratio(body, whitespace))\n",
    "            vector.append(regex_ratio(body, exclam))\n",
    "        return X\n",
    "\n",
    "    def fit(self, X, y=None):\n",
    "        return self"
   ]
  },
  {
   "cell_type": "code",
   "execution_count": 845,
   "metadata": {
    "collapsed": false
   },
   "outputs": [],
   "source": [
    "clf_pipe_p1 = Pipeline([('preprocess', PreProcessor('part1')),\n",
    "                    ('vect', CountVectorizer(decode_error='ignore')),\n",
    "#                     ('feat', VectorAppender()),\n",
    "                    ('clf', MultinomialNB()),\n",
    "])"
   ]
  },
  {
   "cell_type": "markdown",
   "metadata": {
    "collapsed": true
   },
   "source": [
    "Let's test using Stratified Cross Validation:"
   ]
  },
  {
   "cell_type": "code",
   "execution_count": 846,
   "metadata": {
    "collapsed": true
   },
   "outputs": [],
   "source": [
    "def printIncorrectClassifications(ground_truths, predictions, names):\n",
    "    for i, prediction in enumerate(predictions):\n",
    "        if (ground_truths[i] != prediction):\n",
    "            print names[i] + ' classified as ' + training_label_names[prediction] + ' when it was ' + training_label_names[ground_truths[i]]"
   ]
  },
  {
   "cell_type": "code",
   "execution_count": 847,
   "metadata": {
    "collapsed": false
   },
   "outputs": [
    {
     "name": "stdout",
     "output_type": "stream",
     "text": [
      "training_data/ham000.txt classified as spam when it was ham\n",
      "training_data/spam008.txt classified as ham when it was spam\n",
      "training_data/spam015.txt classified as ham when it was spam\n",
      "training_data/ham088.txt classified as spam when it was ham\n",
      "training_data/ham115.txt classified as spam when it was ham\n",
      "training_data/ham118.txt classified as spam when it was ham\n",
      "training_data/spam022.txt classified as ham when it was spam\n",
      "training_data/spam027.txt classified as ham when it was spam\n",
      "training_data/spam035.txt classified as ham when it was spam\n",
      "training_data/ham160.txt classified as spam when it was ham\n",
      "training_data/ham172.txt classified as spam when it was ham\n",
      "training_data/ham186.txt classified as spam when it was ham\n",
      "training_data/spam040.txt classified as ham when it was spam\n",
      "training_data/spam069.txt classified as ham when it was spam\n",
      "training_data/ham283.txt classified as spam when it was ham\n",
      "training_data/spam077.txt classified as ham when it was spam\n",
      "Accuracy per fold: [0.95999999999999996, 0.97999999999999998, 0.90000000000000002, 0.97999999999999998, 0.92000000000000004, 1.0, 0.97999999999999998, 0.95999999999999996, 1.0, 1.0]\n",
      "Average accuracy: 0.968\n"
     ]
    }
   ],
   "source": [
    "from sklearn.cross_validation import StratifiedKFold\n",
    "from sklearn.metrics import accuracy_score\n",
    "\n",
    "k = 10\n",
    "skf = StratifiedKFold(training_labels, n_folds=k)\n",
    "acc_per_fold = []\n",
    "\n",
    "for train_indices, test_indices in skf:\n",
    "    clf = clf_pipe_p1.fit([training_data[i] for i in train_indices], [training_labels[i] for i in train_indices])\n",
    "    predictions['stratified-nb-p1'] = clf.predict([training_data[i] for i in test_indices])\n",
    "    predictions['stratified-nb-p1-prob'] = clf.predict_proba([training_data[i] for i in test_indices])\n",
    "    acc_per_fold.append( accuracy_score([training_labels[i] for i in test_indices], predictions['stratified-nb-p1']) )\n",
    "    printIncorrectClassifications([training_labels[i] for i in test_indices], predictions['stratified-nb-p1'], [training_filenames[i] for i in test_indices])\n",
    "\n",
    "print \"Accuracy per fold:\", acc_per_fold\n",
    "print \"Average accuracy:\", np.mean(acc_per_fold)"
   ]
  },
  {
   "cell_type": "markdown",
   "metadata": {},
   "source": [
    "And we'll also test using a separate (large) batch of test data"
   ]
  },
  {
   "cell_type": "code",
   "execution_count": 853,
   "metadata": {
    "collapsed": true
   },
   "outputs": [],
   "source": [
    "import random\n",
    "def pickTestData(count=1):\n",
    "    labelsFile = open('testdata.label', 'r')\n",
    "    labeling = labelsFile.readlines()\n",
    "    random.shuffle(labeling)\n",
    "    sample = labeling[0:count]\n",
    "    return [open('test_data/'+row.split()[1], 'r').read() for row in sample], [1-int(row.split()[0]) for row in sample], ['test_data/'+row.split()[1] for row in sample]\n",
    "\n",
    "test_data, test_labels, test_filenames = pickTestData(1000)"
   ]
  },
  {
   "cell_type": "code",
   "execution_count": 854,
   "metadata": {
    "collapsed": false
   },
   "outputs": [
    {
     "name": "stdout",
     "output_type": "stream",
     "text": [
      "test_data/TRAIN_01025.eml classified as ham when it was spam\n",
      "test_data/TRAIN_02481.eml classified as ham when it was spam\n",
      "test_data/TRAIN_02420.eml classified as ham when it was spam\n",
      "test_data/TRAIN_01889.eml classified as ham when it was spam\n",
      "test_data/TRAIN_01118.eml classified as ham when it was spam\n",
      "test_data/TRAIN_00647.eml classified as spam when it was ham\n",
      "test_data/TRAIN_00223.eml classified as ham when it was spam\n",
      "test_data/TRAIN_03398.eml classified as ham when it was spam\n",
      "test_data/TRAIN_03396.eml classified as ham when it was spam\n",
      "test_data/TRAIN_03812.eml classified as ham when it was spam\n",
      "test_data/TRAIN_00082.eml classified as ham when it was spam\n",
      "test_data/TRAIN_02837.eml classified as spam when it was ham\n",
      "test_data/TRAIN_04305.eml classified as ham when it was spam\n",
      "test_data/TRAIN_01046.eml classified as ham when it was spam\n",
      "test_data/TRAIN_01103.eml classified as ham when it was spam\n",
      "test_data/TRAIN_01147.eml classified as ham when it was spam\n",
      "test_data/TRAIN_00634.eml classified as ham when it was spam\n",
      "test_data/TRAIN_01818.eml classified as ham when it was spam\n",
      "test_data/TRAIN_04028.eml classified as ham when it was spam\n",
      "test_data/TRAIN_04051.eml classified as ham when it was spam\n",
      "test_data/TRAIN_01412.eml classified as ham when it was spam\n",
      "test_data/TRAIN_00666.eml classified as ham when it was spam\n",
      "test_data/TRAIN_00267.eml classified as ham when it was spam\n",
      "test_data/TRAIN_02172.eml classified as ham when it was spam\n",
      "test_data/TRAIN_03362.eml classified as spam when it was ham\n",
      "test_data/TRAIN_02157.eml classified as ham when it was spam\n",
      "test_data/TRAIN_02652.eml classified as ham when it was spam\n",
      "test_data/TRAIN_03008.eml classified as spam when it was ham\n",
      "test_data/TRAIN_02017.eml classified as ham when it was spam\n",
      "test_data/TRAIN_01459.eml classified as ham when it was spam\n",
      "test_data/TRAIN_01657.eml classified as ham when it was spam\n",
      "test_data/TRAIN_00201.eml classified as ham when it was spam\n",
      "test_data/TRAIN_00573.eml classified as ham when it was spam\n",
      "test_data/TRAIN_00773.eml classified as ham when it was spam\n",
      "test_data/TRAIN_02543.eml classified as ham when it was spam\n",
      "test_data/TRAIN_03281.eml classified as ham when it was spam\n",
      "test_data/TRAIN_01223.eml classified as ham when it was spam\n",
      "test_data/TRAIN_04258.eml classified as ham when it was spam\n",
      "test_data/TRAIN_01323.eml classified as ham when it was spam\n",
      "test_data/TRAIN_00065.eml classified as ham when it was spam\n",
      "test_data/TRAIN_03481.eml classified as ham when it was spam\n",
      "test_data/TRAIN_02890.eml classified as ham when it was spam\n",
      "test_data/TRAIN_02954.eml classified as ham when it was spam\n",
      "test_data/TRAIN_00651.eml classified as ham when it was spam\n",
      "test_data/TRAIN_00257.eml classified as ham when it was spam\n",
      "test_data/TRAIN_03030.eml classified as ham when it was spam\n",
      "test_data/TRAIN_04290.eml classified as ham when it was spam\n",
      "test_data/TRAIN_03553.eml classified as ham when it was spam\n",
      "test_data/TRAIN_01124.eml classified as ham when it was spam\n",
      "test_data/TRAIN_02281.eml classified as ham when it was spam\n",
      "test_data/TRAIN_01486.eml classified as ham when it was spam\n",
      "test_data/TRAIN_01912.eml classified as ham when it was spam\n",
      "test_data/TRAIN_02358.eml classified as ham when it was spam\n",
      "test_data/TRAIN_00917.eml classified as ham when it was spam\n",
      "test_data/TRAIN_02643.eml classified as ham when it was spam\n",
      "test_data/TRAIN_00498.eml classified as ham when it was spam\n",
      "test_data/TRAIN_00004.eml classified as ham when it was spam\n",
      "test_data/TRAIN_00273.eml classified as ham when it was spam\n",
      "test_data/TRAIN_03914.eml classified as ham when it was spam\n",
      "test_data/TRAIN_02047.eml classified as ham when it was spam\n",
      "test_data/TRAIN_00692.eml classified as ham when it was spam\n",
      "test_data/TRAIN_02369.eml classified as spam when it was ham\n",
      "test_data/TRAIN_01187.eml classified as spam when it was ham\n",
      "test_data/TRAIN_01753.eml classified as ham when it was spam\n",
      "test_data/TRAIN_03304.eml classified as ham when it was spam\n",
      "test_data/TRAIN_01633.eml classified as ham when it was spam\n",
      "test_data/TRAIN_03576.eml classified as ham when it was spam\n",
      "test_data/TRAIN_02282.eml classified as ham when it was spam\n",
      "test_data/TRAIN_03387.eml classified as ham when it was spam\n",
      "test_data/TRAIN_03843.eml classified as ham when it was spam\n",
      "test_data/TRAIN_03785.eml classified as ham when it was spam\n",
      "test_data/TRAIN_01968.eml classified as ham when it was spam\n",
      "test_data/TRAIN_00981.eml classified as ham when it was spam\n",
      "test_data/TRAIN_02012.eml classified as ham when it was spam\n",
      "test_data/TRAIN_04162.eml classified as ham when it was spam\n",
      "test_data/TRAIN_03381.eml classified as ham when it was spam\n",
      "test_data/TRAIN_03046.eml classified as ham when it was spam\n",
      "test_data/TRAIN_03956.eml classified as ham when it was spam\n",
      "test_data/TRAIN_00986.eml classified as ham when it was spam\n",
      "test_data/TRAIN_01716.eml classified as ham when it was spam\n",
      "test_data/TRAIN_04191.eml classified as ham when it was spam\n",
      "test_data/TRAIN_00673.eml classified as ham when it was spam\n",
      "test_data/TRAIN_04293.eml classified as ham when it was spam\n",
      "test_data/TRAIN_01216.eml classified as ham when it was spam\n",
      "test_data/TRAIN_04045.eml classified as ham when it was spam\n",
      "test_data/TRAIN_03799.eml classified as ham when it was spam\n",
      "test_data/TRAIN_00124.eml classified as ham when it was spam\n",
      "test_data/TRAIN_02036.eml classified as ham when it was spam\n",
      "test_data/TRAIN_04000.eml classified as ham when it was spam\n",
      "test_data/TRAIN_03036.eml classified as ham when it was spam\n",
      "test_data/TRAIN_00122.eml classified as ham when it was spam\n",
      "test_data/TRAIN_02363.eml classified as ham when it was spam\n",
      "test_data/TRAIN_04144.eml classified as ham when it was spam\n",
      "test_data/TRAIN_02692.eml classified as ham when it was spam\n",
      "test_data/TRAIN_02277.eml classified as ham when it was spam\n",
      "test_data/TRAIN_00769.eml classified as ham when it was spam\n",
      "test_data/TRAIN_03811.eml classified as ham when it was spam\n",
      "test_data/TRAIN_00941.eml classified as ham when it was spam\n",
      "test_data/TRAIN_00022.eml classified as ham when it was spam\n",
      "test_data/TRAIN_02022.eml classified as ham when it was spam\n",
      "test_data/TRAIN_00194.eml classified as ham when it was spam\n",
      "test_data/TRAIN_02967.eml classified as spam when it was ham\n",
      "test_data/TRAIN_01907.eml classified as ham when it was spam\n",
      "test_data/TRAIN_01881.eml classified as ham when it was spam\n",
      "test_data/TRAIN_01735.eml classified as ham when it was spam\n",
      "test_data/TRAIN_03931.eml classified as ham when it was spam\n",
      "test_data/TRAIN_04242.eml classified as ham when it was spam\n",
      "test_data/TRAIN_01929.eml classified as ham when it was spam\n",
      "test_data/TRAIN_00491.eml classified as ham when it was spam\n",
      "test_data/TRAIN_02016.eml classified as ham when it was spam\n",
      "test_data/TRAIN_00059.eml classified as ham when it was spam\n",
      "test_data/TRAIN_03953.eml classified as ham when it was spam\n",
      "test_data/TRAIN_01564.eml classified as ham when it was spam\n",
      "test_data/TRAIN_00440.eml classified as ham when it was spam\n",
      "test_data/TRAIN_03543.eml classified as ham when it was spam\n",
      "test_data/TRAIN_01139.eml classified as ham when it was spam\n",
      "test_data/TRAIN_03288.eml classified as ham when it was spam\n",
      "test_data/TRAIN_02948.eml classified as ham when it was spam\n",
      "test_data/TRAIN_03484.eml classified as ham when it was spam\n",
      "test_data/TRAIN_03463.eml classified as ham when it was spam\n",
      "test_data/TRAIN_01402.eml classified as ham when it was spam\n",
      "test_data/TRAIN_00303.eml classified as ham when it was spam\n",
      "test_data/TRAIN_00693.eml classified as ham when it was spam\n",
      "test_data/TRAIN_02858.eml classified as ham when it was spam\n",
      "test_data/TRAIN_03156.eml classified as ham when it was spam\n",
      "test_data/TRAIN_01062.eml classified as spam when it was ham\n",
      "test_data/TRAIN_02441.eml classified as ham when it was spam\n",
      "test_data/TRAIN_01772.eml classified as ham when it was spam\n",
      "test_data/TRAIN_02766.eml classified as ham when it was spam\n",
      "test_data/TRAIN_01421.eml classified as ham when it was spam\n",
      "test_data/TRAIN_04096.eml classified as ham when it was spam\n",
      "test_data/TRAIN_03835.eml classified as ham when it was spam\n",
      "test_data/TRAIN_01996.eml classified as ham when it was spam\n",
      "test_data/TRAIN_01435.eml classified as ham when it was spam\n",
      "test_data/TRAIN_03776.eml classified as ham when it was spam\n",
      "test_data/TRAIN_01987.eml classified as ham when it was spam\n",
      "test_data/TRAIN_02571.eml classified as ham when it was spam\n",
      "test_data/TRAIN_02177.eml classified as spam when it was ham\n",
      "test_data/TRAIN_00353.eml classified as ham when it was spam\n",
      "test_data/TRAIN_01506.eml classified as ham when it was spam\n",
      "test_data/TRAIN_03724.eml classified as ham when it was spam\n",
      "test_data/TRAIN_00308.eml classified as ham when it was spam\n",
      "test_data/TRAIN_02368.eml classified as ham when it was spam\n",
      "test_data/TRAIN_01477.eml classified as ham when it was spam\n",
      "test_data/TRAIN_04109.eml classified as ham when it was spam\n",
      "test_data/TRAIN_00592.eml classified as ham when it was spam\n",
      "test_data/TRAIN_00600.eml classified as ham when it was spam\n",
      "test_data/TRAIN_00762.eml classified as ham when it was spam\n",
      "test_data/TRAIN_04237.eml classified as ham when it was spam\n",
      "test_data/TRAIN_00738.eml classified as ham when it was spam\n",
      "test_data/TRAIN_01665.eml classified as spam when it was ham\n",
      "test_data/TRAIN_03993.eml classified as ham when it was spam\n",
      "test_data/TRAIN_03113.eml classified as ham when it was spam\n",
      "test_data/TRAIN_00050.eml classified as ham when it was spam\n",
      "test_data/TRAIN_01224.eml classified as ham when it was spam\n",
      "test_data/TRAIN_01040.eml classified as ham when it was spam\n",
      "Accuracy against test data: 0.844\n"
     ]
    }
   ],
   "source": [
    "\n",
    "from sklearn.naive_bayes import MultinomialNB\n",
    "# we're using multinomial because it's most relevant for word counts\n",
    "\n",
    "predictions['test-nb-p1'] = clf_pipe_p1.fit(training_data, training_labels).predict(test_data)\n",
    "predictions['test-nb-p1-prob'] = clf_pipe_p1.fit(training_data, training_labels).predict_proba(test_data)\n",
    "\n",
    "accuracy = accuracy_score(test_labels, predictions['test-nb-p1'])\n",
    "printIncorrectClassifications(test_labels, predictions['test-nb-p1'], test_filenames)\n",
    "print \"Accuracy against test data:\", accuracy"
   ]
  },
  {
   "cell_type": "code",
   "execution_count": 855,
   "metadata": {
    "collapsed": false
   },
   "outputs": [],
   "source": [
    "%matplotlib inline\n",
    "\n",
    "import itertools\n",
    "import numpy as np\n",
    "import matplotlib.pyplot as plt\n",
    "\n",
    "from sklearn import svm, datasets\n",
    "from sklearn.metrics import confusion_matrix\n",
    "\n",
    "def plot_confusion_matrix(cm, classes,\n",
    "                          normalize=False,\n",
    "                          title='Confusion matrix',\n",
    "                          cmap=plt.cm.Blues):\n",
    "    \"\"\"\n",
    "    This function prints and plots the confusion matrix.\n",
    "    Normalization can be applied by setting `normalize=True`.\n",
    "    \"\"\"\n",
    "    plt.imshow(cm, interpolation='nearest', cmap=cmap)\n",
    "    plt.title(title)\n",
    "    plt.colorbar()\n",
    "    tick_marks = np.arange(len(classes))\n",
    "    plt.xticks(tick_marks, classes, rotation=45)\n",
    "    plt.yticks(tick_marks, classes)\n",
    "\n",
    "    if normalize:\n",
    "        cm = cm.astype('float') / cm.sum(axis=1)[:, np.newaxis]\n",
    "        print(\"Normalized confusion matrix\")\n",
    "    else:\n",
    "        print('Confusion matrix, without normalization')\n",
    "\n",
    "    print(cm)\n",
    "\n",
    "    thresh = cm.max() / 2.\n",
    "    for i, j in itertools.product(range(cm.shape[0]), range(cm.shape[1])):\n",
    "        plt.text(j, i, cm[i, j],\n",
    "                 horizontalalignment=\"center\",\n",
    "                 color=\"white\" if cm[i, j] > thresh else \"black\")\n",
    "\n",
    "    plt.tight_layout()\n",
    "    plt.ylabel('True label')\n",
    "    plt.xlabel('Predicted label')\n",
    "\n",
    "def plotConfusionMatrices(ground_truths, predicted):\n",
    "    # Compute confusion matrix\n",
    "    cnf_matrix = confusion_matrix(ground_truths, predicted)\n",
    "    np.set_printoptions(precision=2)\n",
    "\n",
    "    # Plot non-normalized confusion matrix\n",
    "    plt.figure()\n",
    "    plot_confusion_matrix(cnf_matrix, classes=training_label_names,\n",
    "                          title='Confusion matrix, without normalization')\n",
    "\n",
    "    # Plot normalized confusion matrix\n",
    "    plt.figure()\n",
    "    plot_confusion_matrix(cnf_matrix, classes=training_label_names, normalize=True,\n",
    "                          title='Normalized confusion matrix')\n",
    "\n",
    "    plt.show()"
   ]
  },
  {
   "cell_type": "code",
   "execution_count": 858,
   "metadata": {
    "collapsed": false
   },
   "outputs": [],
   "source": [
    "from sklearn import metrics\n",
    "import pandas as pd\n",
    "from ggplot import *\n",
    "from sklearn.metrics import roc_curve, auc\n",
    "\n",
    "def plotRocSimple(ground_truths, predictions):\n",
    "    # Compute ROC curve and ROC area for each class\n",
    "    fpr = dict()\n",
    "    tpr = dict()\n",
    "    roc_auc = dict()\n",
    "    for i in range(2):\n",
    "        fpr[i], tpr[i], _ = roc_curve([item for item in ground_truths], [item[i] for item in predictions])\n",
    "        roc_auc[i] = auc(fpr[i], tpr[i])\n",
    "\n",
    "    # Compute micro-average ROC curve and ROC area\n",
    "    fpr[\"micro\"], tpr[\"micro\"], _ = roc_curve(ground_truths, [item[i] for item in predictions])\n",
    "    roc_auc[\"micro\"] = auc(fpr[\"micro\"], tpr[\"micro\"])\n",
    "    \n",
    "    plt.figure()\n",
    "    lw = 2\n",
    "    plt.plot(fpr[2], tpr[2], color='darkorange',\n",
    "             lw=lw, label='ROC curve (area = %0.2f)' % roc_auc[2])\n",
    "    plt.plot([0, 1], [0, 1], color='navy', lw=lw, linestyle='--')\n",
    "    plt.xlim([0.0, 1.0])\n",
    "    plt.ylim([0.0, 1.05])\n",
    "    plt.xlabel('False Positive Rate')\n",
    "    plt.ylabel('True Positive Rate')\n",
    "    plt.title('Receiver operating characteristic example')\n",
    "    plt.legend(loc=\"lower right\")\n",
    "    plt.show()\n",
    "\n",
    "    fpr, tpr, _ = metrics.roc_curve(ground_truths, predictions)\n",
    "\n",
    "    df = pd.DataFrame(dict(fpr=fpr, tpr=tpr))\n",
    "    auc_str = metrics.auc(fpr,tpr)\n",
    "\n",
    "    return ggplot(df, aes(x='fpr', y='tpr')) +\\\n",
    "        geom_area(alpha=0.2) +\\\n",
    "        geom_line(aes(y='tpr')) +\\\n",
    "        ggtitle(\"ROC Curve w/ AUC=%s\" % str(auc_str)) +\\\n",
    "        geom_abline(linetype='dashed')\n",
    "\n",
    "from scipy import interp\n",
    "from itertools import cycle\n",
    "\n",
    "\n",
    "def plotProbaROC(ground_truths, predicted, predicted_proba):\n",
    "    y_test_predictions = predicted\n",
    "    y_test = np.array(ground_truths)\n",
    "    \n",
    "    n_classes = 2\n",
    "    # Compute ROC curve and ROC area for each class\n",
    "    fpr = dict()\n",
    "    tpr = dict()\n",
    "    roc_auc = dict()\n",
    "    for i in range(n_classes):\n",
    "        fpr[i], tpr[i], _ = roc_curve(y_test, [row[i] for row in predicted_proba])\n",
    "        roc_auc[i] = auc(fpr[i], tpr[i])\n",
    "\n",
    "    # Compute micro-average ROC curve and ROC area\n",
    "#     fpr[\"micro\"], tpr[\"micro\"], _ = roc_curve(y_test.ravel(), predicted_proba.ravel())\n",
    "#     roc_auc[\"micro\"] = auc(fpr[\"micro\"], tpr[\"micro\"])\n",
    "\n",
    "    # First aggregate all false positive rates\n",
    "    all_fpr = np.unique(np.concatenate([fpr[i] for i in range(n_classes)]))\n",
    "\n",
    "    # Then interpolate all ROC curves at this points\n",
    "    mean_tpr = np.zeros_like(all_fpr)\n",
    "    for i in range(n_classes):\n",
    "        mean_tpr += interp(all_fpr, fpr[i], tpr[i])\n",
    "\n",
    "    # Finally average it and compute AUC\n",
    "    mean_tpr /= n_classes\n",
    "\n",
    "    fpr[\"macro\"] = all_fpr\n",
    "    tpr[\"macro\"] = mean_tpr\n",
    "    roc_auc[\"macro\"] = auc(fpr[\"macro\"], tpr[\"macro\"])\n",
    "\n",
    "    # Plot all ROC curves\n",
    "    plt.figure()\n",
    "    lw = 2\n",
    "#     plt.plot(fpr[\"micro\"], tpr[\"micro\"],\n",
    "#              label='micro-average ROC curve (area = {0:0.2f})'\n",
    "#                    ''.format(roc_auc[\"micro\"]),\n",
    "#              color='deeppink', linestyle=':', linewidth=4)\n",
    "\n",
    "    plt.plot(fpr[\"macro\"], tpr[\"macro\"],\n",
    "             label='macro-average ROC curve (area = {0:0.2f})'\n",
    "                   ''.format(roc_auc[\"macro\"]),\n",
    "             color='navy', linestyle=':', linewidth=4)\n",
    "\n",
    "    colors = cycle(['aqua', 'darkorange', 'cornflowerblue'])\n",
    "    for i, color in zip(range(n_classes), colors):\n",
    "        plt.plot(fpr[i], tpr[i], color=color, lw=lw,\n",
    "                 label='ROC curve of class {0} (area = {1:0.2f})'\n",
    "                 ''.format(training_label_names[i], roc_auc[i]))\n",
    "\n",
    "    plt.plot([0, 1], [0, 1], 'k--', lw=lw)\n",
    "    plt.xlim([0.0, 1.0])\n",
    "    plt.ylim([0.0, 1.05])\n",
    "    plt.xlabel('False Positive Rate')\n",
    "    plt.ylabel('True Positive Rate')\n",
    "    plt.title('Some extension of Receiver operating characteristic to multi-class')\n",
    "#     plt.legend(loc=\"lower right\")\n",
    "    plt.legend(loc='center left', bbox_to_anchor=(1, 0.5))\n",
    "    plt.show()"
   ]
  },
  {
   "cell_type": "code",
   "execution_count": 859,
   "metadata": {
    "collapsed": false
   },
   "outputs": [
    {
     "name": "stdout",
     "output_type": "stream",
     "text": [
      "Confusion matrix, without normalization\n",
      "[[672  10]\n",
      " [146 172]]\n",
      "Normalized confusion matrix\n",
      "[[ 0.99  0.01]\n",
      " [ 0.46  0.54]]\n"
     ]
    },
    {
     "data": {
      "image/png": "[encoded data removed]",
      "text/plain": [
       "<matplotlib.figure.Figure at 0x11d196090>"
      ]
     },
     "metadata": {},
     "output_type": "display_data"
    },
    {
     "data": {
      "image/png": "[encoded data removed]",
      "text/plain": [
       "<matplotlib.figure.Figure at 0x1173078d0>"
      ]
     },
     "metadata": {},
     "output_type": "display_data"
    },
    {
     "data": {
      "image/png": "[encoded data removed]",
      "text/plain": [
       "<matplotlib.figure.Figure at 0x11d92b950>"
      ]
     },
     "metadata": {},
     "output_type": "display_data"
    }
   ],
   "source": [
    "plotConfusionMatrices(test_labels, predictions['test-nb-p1'])\n",
    "plotProbaROC(test_labels, predictions['test-nb-p1'], predictions['test-nb-p1-prob'])"
   ]
  },
  {
   "cell_type": "markdown",
   "metadata": {},
   "source": [
    "we'll use a DummyClassifier as our baseline, in stratified cross validation:"
   ]
  },
  {
   "cell_type": "code",
   "execution_count": null,
   "metadata": {
    "collapsed": false
   },
   "outputs": [],
   "source": [
    "from sklearn.dummy import DummyClassifier\n",
    "\n",
    "clf_pipe_dummy = Pipeline([('preprocess', PreProcessor('part1')),\n",
    "                     ('vect', CountVectorizer(decode_error='ignore')),\n",
    "#                      ('tfidf', TfidfTransformer(use_idf=False)),\n",
    "                     ('clf', DummyClassifier('uniform')),\n",
    "])"
   ]
  },
  {
   "cell_type": "code",
   "execution_count": null,
   "metadata": {
    "collapsed": false
   },
   "outputs": [],
   "source": [
    "k = 10\n",
    "skf = StratifiedKFold(training_labels, n_folds=k)\n",
    "acc_per_fold = []\n",
    "\n",
    "for train_indices, test_indices in skf:\n",
    "    dclf = clf_pipe_dummy.fit([training_data[i] for i in train_indices], [training_labels[i] for i in train_indices])\n",
    "    predictions['stratified-dummy-p1'] = dclf.predict([training_data[i] for i in test_indices])\n",
    "    acc_per_fold.append( accuracy_score([training_labels[i] for i in test_indices], predictions['stratified-dummy-p1']) )\n",
    "\n",
    "print \"Baseline accuracy per fold:\", acc_per_fold\n",
    "print \"Baseline average accuracy:\", np.mean(acc_per_fold)"
   ]
  },
  {
   "cell_type": "markdown",
   "metadata": {},
   "source": [
    "and against our test data:"
   ]
  },
  {
   "cell_type": "code",
   "execution_count": null,
   "metadata": {
    "collapsed": false
   },
   "outputs": [],
   "source": [
    "predictions['test-dummy-p1'] = clf_pipe_dummy.fit(training_data, training_labels).predict(test_data)\n",
    "predictions['test-dummy-p1-prob'] = clf_pipe_dummy.fit(training_data, training_labels).predict_proba(test_data)\n",
    "\n",
    "dummy_accuracy = accuracy_score(test_labels, predictions['test-dummy-p1'])\n",
    "\n",
    "print \"Baseline accuracy against test data:\", dummy_accuracy"
   ]
  },
  {
   "cell_type": "code",
   "execution_count": null,
   "metadata": {
    "collapsed": false
   },
   "outputs": [],
   "source": [
    "plotConfusionMatrices(test_labels, predictions['test-dummy-p1'])\n",
    "plotProbaROC(test_labels, predictions['test-dummy-p1'], predictions['test-dummy-p1-prob'])"
   ]
  },
  {
   "cell_type": "markdown",
   "metadata": {},
   "source": [
    "# Part 2"
   ]
  },
  {
   "cell_type": "markdown",
   "metadata": {},
   "source": [
    "now we can do some more interesting things"
   ]
  },
  {
   "cell_type": "code",
   "execution_count": 849,
   "metadata": {
    "collapsed": true
   },
   "outputs": [],
   "source": [
    "clf_pipe_p2 = Pipeline([('preprocess', PreProcessor('part2')),\n",
    "                     ('vect', CountVectorizer(decode_error='ignore', binary=True, max_features=10000)),\n",
    "                     ('clf', MultinomialNB(alpha=1, fit_prior=False)),\n",
    "])"
   ]
  },
  {
   "cell_type": "code",
   "execution_count": 850,
   "metadata": {
    "collapsed": false
   },
   "outputs": [
    {
     "name": "stdout",
     "output_type": "stream",
     "text": [
      "Accuracy per fold: [0.93999999999999995, 0.93999999999999995, 0.95999999999999996, 0.95999999999999996, 0.95999999999999996, 1.0, 0.95999999999999996, 0.93999999999999995, 0.93999999999999995, 0.95999999999999996]\n",
      "Average accuracy: 0.956\n"
     ]
    }
   ],
   "source": [
    "k = 10\n",
    "skf = StratifiedKFold(training_labels, n_folds=k)\n",
    "acc_per_fold = []\n",
    "\n",
    "for train_indices, test_indices in skf:\n",
    "    clf = clf_pipe_p2.fit([training_data[i] for i in train_indices], [training_labels[i] for i in train_indices])\n",
    "    predictions['stratified-nb-p2'] = clf.predict([training_data[i] for i in test_indices])\n",
    "    acc_per_fold.append( accuracy_score([training_labels[i] for i in test_indices], predictions['stratified-nb-p2']) )\n",
    "\n",
    "print \"Accuracy per fold:\", acc_per_fold\n",
    "print \"Average accuracy:\", np.mean(acc_per_fold)"
   ]
  },
  {
   "cell_type": "code",
   "execution_count": 861,
   "metadata": {
    "collapsed": false
   },
   "outputs": [
    {
     "name": "stdout",
     "output_type": "stream",
     "text": [
      "Accuracy against test data: 0.82\n"
     ]
    }
   ],
   "source": [
    "predictions['test-nb-p2'] = clf_pipe_p2.fit(training_data, training_labels).predict(test_data)\n",
    "predictions['test-nb-p2-prob'] = clf_pipe_p2.fit(training_data, training_labels).predict_proba(test_data)\n",
    "\n",
    "accuracy = accuracy_score(test_labels, predictions['test-nb-p2'])\n",
    "\n",
    "print \"Accuracy against test data:\", accuracy"
   ]
  },
  {
   "cell_type": "code",
   "execution_count": 862,
   "metadata": {
    "collapsed": false
   },
   "outputs": [
    {
     "name": "stdout",
     "output_type": "stream",
     "text": [
      "Confusion matrix, without normalization\n",
      "[[679   3]\n",
      " [177 141]]\n",
      "Normalized confusion matrix\n",
      "[[ 1.    0.  ]\n",
      " [ 0.56  0.44]]\n"
     ]
    },
    {
     "data": {
      "image/png": "[encoded data removed]",
      "text/plain": [
       "<matplotlib.figure.Figure at 0x11c84d910>"
      ]
     },
     "metadata": {},
     "output_type": "display_data"
    },
    {
     "data": {
      "image/png": "[encoded data removed]",
      "text/plain": [
       "<matplotlib.figure.Figure at 0x118aac350>"
      ]
     },
     "metadata": {},
     "output_type": "display_data"
    },
    {
     "data": {
      "image/png": "[encoded data removed]",
      "text/plain": [
       "<matplotlib.figure.Figure at 0x114e53c10>"
      ]
     },
     "metadata": {},
     "output_type": "display_data"
    }
   ],
   "source": [
    "plotConfusionMatrices(test_labels, predictions['test-nb-p2'])\n",
    "plotProbaROC(test_labels, predictions['test-nb-p2'], predictions['test-nb-p2-prob'])"
   ]
  },
  {
   "cell_type": "markdown",
   "metadata": {
    "collapsed": true
   },
   "source": [
    "we need to compare our part 2 algorithm to another algorithm of our choice. We'll use an SVM."
   ]
  },
  {
   "cell_type": "code",
   "execution_count": null,
   "metadata": {
    "collapsed": false
   },
   "outputs": [],
   "source": [
    "from sklearn.linear_model import SGDClassifier\n",
    "clf_pipe_svm = Pipeline([('preprocess', PreProcessor('part2')),\n",
    "                    ('vect', CountVectorizer(decode_error='ignore')),\n",
    "                    ('clf', SGDClassifier(loss='log', penalty='l2',\n",
    "                                           alpha=1e-3, n_iter=5, random_state=42)),\n",
    "])\n",
    "\n",
    "\n",
    "predictions['test-svm-p2'] = clf_pipe_svm.fit(training_data, training_labels).predict(test_data)\n",
    "predictions['test-svm-p2-prob'] = clf_pipe_svm.fit(training_data, training_labels).predict_proba(test_data)\n",
    "\n",
    "accuracy = accuracy_score(test_labels, predictions['test-svm-p2'])\n",
    "\n",
    "print \"SVM accuracy against test data:\", accuracy"
   ]
  },
  {
   "cell_type": "code",
   "execution_count": null,
   "metadata": {
    "collapsed": false
   },
   "outputs": [],
   "source": [
    "plotConfusionMatrices(test_labels, predictions['test-svm-p2'])\n",
    "plotProbaROC(test_labels, predictions['test-svm-p2'], predictions['test-svm-p2-prob'])"
   ]
  },
  {
   "cell_type": "markdown",
   "metadata": {},
   "source": [
    "best SVM tuned parameters"
   ]
  },
  {
   "cell_type": "code",
   "execution_count": null,
   "metadata": {
    "collapsed": false
   },
   "outputs": [],
   "source": [
    "from sklearn.model_selection import GridSearchCV\n",
    "parameters = {'vect__ngram_range': [(1, 1), (1, 2)],\n",
    "              'clf__alpha': (1e-2, 1e-3),\n",
    "}\n",
    "\n",
    "gs_clf = GridSearchCV(clf_pipe_svm, parameters, n_jobs=-1)\n",
    "\n",
    "gs_clf = gs_clf.fit(training_data, training_labels)\n",
    "\n",
    "print \"Best score:\", gs_clf.best_score_\n",
    "\n",
    "for param_name in sorted(parameters.keys()):\n",
    "    print(\"%s: %r\" % (param_name, gs_clf.best_params_[param_name]))"
   ]
  },
  {
   "cell_type": "markdown",
   "metadata": {},
   "source": [
    "I want to tune the part2 parameters to see what the best value can be"
   ]
  },
  {
   "cell_type": "code",
   "execution_count": null,
   "metadata": {
    "collapsed": false
   },
   "outputs": [],
   "source": [
    "from sklearn.model_selection import GridSearchCV\n",
    "parameters = {'vect__ngram_range': [(1, 1), (1, 2), (1, 3)],\n",
    "              'vect__binary': (True, False),\n",
    "              'vect__max_features': [None, 10000],\n",
    "              'vect__stop_words': ('english', None),\n",
    "              'clf__alpha': (0, 1),\n",
    "              'clf__fit_prior': (False, True)\n",
    "}\n",
    "\n",
    "gs_clf = GridSearchCV(clf_pipe_p2, parameters, n_jobs=-1)\n",
    "\n",
    "gs_clf = gs_clf.fit(training_data, training_labels)\n",
    "\n",
    "print \"Best score:\", gs_clf.best_score_\n",
    "\n",
    "for param_name in sorted(parameters.keys()):\n",
    "    print(\"%s: %r\" % (param_name, gs_clf.best_params_[param_name]))"
   ]
  },
  {
   "cell_type": "markdown",
   "metadata": {
    "collapsed": true
   },
   "source": [
    "# Part 3"
   ]
  },
  {
   "cell_type": "markdown",
   "metadata": {},
   "source": [
    "The below code will not work with caching - disable caching if you want to run calibration (it takes about 45 minutes)"
   ]
  },
  {
   "cell_type": "code",
   "execution_count": null,
   "metadata": {
    "collapsed": true
   },
   "outputs": [],
   "source": [
    "\n",
    "def plot_calibration_curve(est, name, fig_index):\n",
    "    \"\"\"Plot calibration curve for est w/o and with calibration. \"\"\"\n",
    "    # Calibrated with isotonic calibration\n",
    "    \n",
    "    isotonic = CalibratedClassifierCV(est, cv='prefit', method='isotonic')\n",
    "    isotonic.fit(training_data, training_labels)\n",
    "    \n",
    "    # Calibrated with sigmoid calibration\n",
    "    sigmoid = CalibratedClassifierCV(est, cv='prefit', method='sigmoid')\n",
    "    sigmoid.fit(training_data, training_labels)\n",
    "    \n",
    "    # Logistic regression with no calibration as baseline\n",
    "#     lr = LogisticRegression(C=1., solver='lbfgs')\n",
    "\n",
    "    fig = plt.figure(fig_index, figsize=(10, 10))\n",
    "    ax1 = plt.subplot2grid((3, 1), (0, 0), rowspan=2)\n",
    "    ax2 = plt.subplot2grid((3, 1), (2, 0))\n",
    "\n",
    "    ax1.plot([0, 1], [0, 1], \"k:\", label=\"Perfectly calibrated\")\n",
    "    for clf, name in [(lr, 'Logistic'),\n",
    "                      (est, name),\n",
    "                      (isotonic, name + ' + Isotonic'),\n",
    "                      (sigmoid, name + ' + Sigmoid')]:\n",
    "#         clf.fit(X_train, y_train)\n",
    "        y_pred = clf.predict(np.array(X_test).reshape(-1, 1))\n",
    "        if hasattr(clf, \"predict_proba\"):\n",
    "            prob_pos = clf.predict_proba(np.array(X_test).reshape(-1, 1))[:, 1]\n",
    "        else:  # use decision function\n",
    "            prob_pos = clf.decision_function(np.array(X_test).reshape(-1, 1))\n",
    "            prob_pos = \\\n",
    "                (prob_pos - prob_pos.min()) / (prob_pos.max() - prob_pos.min())\n",
    "\n",
    "        clf_score = brier_score_loss(y_test, prob_pos, pos_label=1)\n",
    "        print(\"%s:\" % name)\n",
    "        print(\"\\tBrier: %1.3f\" % (clf_score))\n",
    "        print(\"\\tPrecision: %1.3f\" % precision_score(y_test, y_pred))\n",
    "        print(\"\\tRecall: %1.3f\" % recall_score(y_test, y_pred))\n",
    "        print(\"\\tF1: %1.3f\\n\" % f1_score(y_test, y_pred))\n",
    "\n",
    "        fraction_of_positives, mean_predicted_value = \\\n",
    "            calibration_curve(y_test, prob_pos, n_bins=10)\n",
    "\n",
    "        ax1.plot(mean_predicted_value, fraction_of_positives, \"s-\",\n",
    "                 label=\"%s (%1.3f)\" % (name, clf_score))\n",
    "\n",
    "        ax2.hist(prob_pos, range=(0, 1), bins=10, label=name,\n",
    "                 histtype=\"step\", lw=2)\n",
    "\n",
    "    ax1.set_ylabel(\"Fraction of positives\")\n",
    "    ax1.set_ylim([-0.05, 1.05])\n",
    "    ax1.legend(loc=\"lower right\")\n",
    "    ax1.set_title('Calibration plots  (reliability curve)')\n",
    "\n",
    "    ax2.set_xlabel(\"Mean predicted value\")\n",
    "    ax2.set_ylabel(\"Count\")\n",
    "    ax2.legend(loc=\"upper center\", ncol=2)\n",
    "\n",
    "#     plt.tight_layout()\n",
    "\n",
    "# Plot calibration curve for Gaussian Naive Bayes\n",
    "plot_calibration_curve(fitted_classifiers['test-nb-p2'], \"Naive Bayes\", 1)\n",
    "plt.show()"
   ]
  }
 ],
 "metadata": {
  "anaconda-cloud": {},
  "kernelspec": {
   "display_name": "Python 2",
   "language": "python",
   "name": "python2"
  },
  "language_info": {
   "codemirror_mode": {
    "name": "ipython",
    "version": 2
   },
   "file_extension": ".py",
   "mimetype": "text/x-python",
   "name": "python",
   "nbconvert_exporter": "python",
   "pygments_lexer": "ipython2",
   "version": "2.7.12"
  }
 },
 "nbformat": 4,
 "nbformat_minor": 1
}
