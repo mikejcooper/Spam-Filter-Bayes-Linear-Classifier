{
 "cells": [
  {
   "cell_type": "markdown",
   "metadata": {},
   "source": [
    "# Assignment : Spam Filter\n",
    "## Description\n",
    "This assignment is near-final modulo some small adjustments (6 Nov '16)\n",
    "In this assignment, you will discover that in many practical machine learning problems implementing the learning algorithm is often only a small part of the overall system. Thus to get a high mark for this assignment you need to implement any of the more advanced classification techniques or clever pre-processing methods. You will find plenty of them on the internet. If you do not know where to look for them, ask Google ;-).\n",
    "\n",
    "Here your task is to build the standard (i.e. multinomial) Naive Bayes text classifier described during the lectures. You should test your program using the automatic marking software (described below), so it is critically important that it follows the specifications in detail.\n",
    "\n",
    "You will train your classifier on real-world e-mails, which you can download from here. Each training e-mail is stored in a separate file. The names of spam training e-mails start with spam, while the names of ham e-mails start with ham.\n",
    "\n",
    "## Marking criteria\n",
    "\n",
    "Part 1 (40%):\n",
    "    - Your program classifies the testing set with an accuracy significantly higher than random within 30 minutes\n",
    "    - Use very simple data preprocessing so that the emails can be read into the Naive Bayes (remove everything else other than words from emails)\n",
    "    - Write simple Naive Bayes multinomial classifier or use an implementation from a library of your choice\n",
    "    - Classify the data\n",
    "    - Report your results with a metric (e.g. accuracy) and method (e.g. cross validation) of your choice\n",
    "    - Choose a baseline and compare your classifier against it\n",
    "\n",
    "Part 2 (30%):\n",
    "    - Use some smart feature processing techniques to improve the classification results\n",
    "    - Compare the classification results with and without these techniques\n",
    "    - Analyse how the classification results depend on the parameters (if available) of chosen techniques\n",
    "    - Compare (statistically) your results against any other algorithm of your choice (use can use any library); compare and contrast results, ensure fair comparison\n",
    "\n",
    "Part 3 (30%):\n",
    "    - Calibration (15%): calibrate Naive Bayes probabilities, such that they result in low mean squared error\n",
    "    - Naive Bayes extension (15%): modify the algorithm in some interesting way (e.g. weighted Naive Bayes)\n",
    "    \n",
    "\n",
    "** Convert from .ipynb to .py : ** $ ipython nbconvert --to python filter.ipynb\n",
    "\n"
   ]
  },
  {
   "cell_type": "code",
   "execution_count": 3,
   "metadata": {
    "collapsed": false
   },
   "outputs": [],
   "source": [
    "# Import all necessary packages\n",
    "import math\n",
    "import numpy as np\n",
    "import pandas as pd\n",
    "\n",
    "import os, re\n",
    "\n",
    "\n"
   ]
  },
  {
   "cell_type": "markdown",
   "metadata": {},
   "source": [
    "** Part 1 Filtering"
   ]
  },
  {
   "cell_type": "code",
   "execution_count": 7,
   "metadata": {
    "collapsed": false
   },
   "outputs": [
    {
     "name": "stdout",
     "output_type": "stream",
     "text": [
      "i have translated the article in full see end of post i think that ive done a far better job than the google translation at least its readable now any corrections appreciated stuff in s is my and others additions to the debate my apologies if ive paraphrased anybody incorrectly i will be glad to retract if anyone is miffed the article makes four main points absence of critical clauses in this case the idea is that the licence is invalid because it doesnt specify under what countrys law the gpl is governed specification in english only that for the end user as opposed to businesses the gpl doesnt apply because its not written in french arbitary licence change the point here is that under french law the author can change the terms of the licence arbitarily this is because any granting of rights by an author must be clearly delimited in terms of how long where to whom dates and times in the absence of such limitations the original author has the right to change his software back to closed on a whim david neary makes the point that the copyright holder automatically retains the right to change the licence scott replies it simply requires authorisation from all copyright holders thats not my understanding french law allows a gpl type licence on condition that the specific conditions of the granting of such rights are clear if they are not there is nothing to stop the original author taking back his work the lawyers see this correctly imho as a weakness in the gpl hidden defects roughly this clause means that the authors isare liable for any defects if the consumer is not an it engineer so if linux blows up and data is lost then the authors are liable ciaran johnson says that moft and others have similar clauses the point here is that they are all invalid just that this one affects the gpl also niall obroinn makes the point that it is not a sale but rather a serviceleasing arrangement and thats why it doesnt come under this point i would suggest that the whole thrust of this article has been to see software sales even if no money changes hands as governed very much by consumer law in france anyway rick moen makes the point that it is not a sale but rather a granting of rights which are not default see the bit about even the granting of rights by an author having to be explicitly specified under french law the fact that two ip lawyers in france think that the gpl is covered as a sale make me feel that there is a de facto sale and a de facto contract roughly there may be other reasons under french law why the gpl may be invalid whole article freedoma is worth more than these imperfect licences specialised lawyers look at the gpl lawyer cyril rojinsky duly appointed to the court and the jurist vincent grynbaum both specialised in the area of intellectual property examine the free licences and in particular the gpl they have published their study in the review proprietes intellectuelles intellectual property and their conclusion is grim their approach is interesting the problem for them is not to know whether freedom is valid under french law for them the question is a moot point but rather they asked themselves about the form and the content of the text of free licences and in particular the gpl the problem is not free programmes but rather the licence contracts of free programmes absence of critical clauses the authors tell us that first of all the reference to copyright is not legally sufficient in the framework of international contracts which is the case of licence contracts for programmes developed and spread via the internet the idea of copyright can basically include differences from one country to another this is why under international contracts it is necessary to specify to which laws one is referring french law american c the authors only found three public licences which were correctly formulated on this point qpl ibm public licence and the mozilla public licence specification in the english language next the authors remind us that at least in france no clause in a contract may be contrary to french law however it turns out that a licence such as the gpl is contrary to french law in several respects firstly it is written in english and the fsf doesnt officially approve translations the toubon law obliges this sort of contract to be written in french including for businesses since the notion of user applies not only to consumers but also to businesses professionals c contacted by the editors of linuxfrench lawyer cyril rojinsky declared that as far as business is concerned the toubon law is probably doomed to change since it is in contradiction of european directives on the subject but whatever about that the problem is still valid for individuals and while waiting for it french law to change french companies have to deal with it since it is the law of the land a programme under the gpl can suddenly change licence another problem much more serious is that according to french law the author of a free programme can at any time invoke the invalidity of the licence for this software by simply changing the licence in effect the law of intellectual property stipulates that the granting of rights by the author is subordinate to the condition that each of these granted rights be the object of a distinct clause in the granting act ie the licence and that the granting of any such rights be delimited with respect to its scope and its grantees and also with respect to its location ie where such rights may be excersised and duration of any such grants this is not the case of the gpl nor of other free licences briefly this means that in france or elsewhere if the author is french that which is under the gpl could revert to proprietary from one day to the next the problem of the guarantee hidden defects an other very serious flaw is that of the guarantee the gpl licences and others show that the software is delivered without guarantee you are going to immediately reply that commercical programmes carry the same clause in their licence contracts and this is correct however whatever is written in a licence contract one cannot free oneself from the guarantee from hidden defects since it is imposed in the civil code this concept is poorly understood by the layman it protects the buyer whoever it may be individual or business since it specifies the civil code and not consumer protection law against hidden defects deliberate or made in good faith by the seller for example if one buys a pair of socks in a sale and the shop has a notice specifying that sale items are neither refunded nor exchanged and on arriving home you notice that one of the socks has a hole in it several scenarios are possible you could have checked the socks before purchase the flaw is deemed obvious and you can sing for your money you couldnt check the socks they were packaged for example and in this case despite the notice neither refund nor exchange you may invoke hidden defect and have them changed or obtain a refund its up to you personally i have already invoked in shops the hidden defect clause and it always worked well shopkeepers are always very cooperative if you quote a couple of words of the civil code the concept of hidden defect is rather wide it is necessary that you hadnt the possibility of discovering the defect before buying the product and then according to the civil code that you wouldnt have bought it at that price if you had known about the defect the third case which is much rarer is if you are able to show that the vendor had knowledge of the defect hidden but didnt inform you in this case not only does he have to reimburse the product but all expenses incurred by the sale metro tickets to go to the shop the fuse which blew when you plugged it in c this idea of hidden defect applies to all products including programmes this was made abundantly clear by the authorities and the courts surrounding yk this is particularly inconvenient for free programmes since a site which offers a linux distro for download is supposed to provide a guarantee against hidden flaws linuxfrench asked cyril rojinsky if in the case of a free programme one could speak about a hidden defect since the source code was available he replied actually concerning the guarantee the question of obvious defect will arise this analyis will be different depending on whether the person who downloads the distribution is an it professional or not opensource has this advantage over the proprietary programme it protects the distributor against a guarantee of hidden defect insofar as the buy is an it person but for distribution to the public at large the problem remains the same roughly speaking lawyer cyril rojinsky said it himself this study is far from being exhaustive and many other areas could be explored during this interview we asked ourselves for example about the fragility of the gpl clause which forbids linking source code under the gpl with proprietary code in effect the laws of intellectual property give the right to the user to modify a programme with the intention of permitting interoperability with another programme if for that i need to link with a proprietary library communication protocol device driver i may consider as null and void this clause of the gpl the conclusion of this study is a wake up call for the community freedom merits more than these shoddy licences which should be modified before court cases over them proliferate and put at risk the undeniable originality of this effort une publication de linstitut de recherche en proprit intellectuelle no juillet une telle clause de contrat qui est oppose ce que dit la loi franaise est qualifie en terme juridique de clause rpute noncrite cestdire quon fait comme si cette clause ntait pas crite dans le contrat cest pour cela par exemple que vous pouvez signer un bail pour un appartement qui stipule que les enfants sont interdits dans limmeuble et envisager sans inquitude davoir quand mme un enfant en effet le code civil stipule que le devoir dun locataire dun appartement doit se comporter en bon pre de famille article l do you yahoo une adresse yahoofr gratuite et en franais yahoo mail irish linux users group for unsubscription information list maintainer\n"
     ]
    }
   ],
   "source": [
    "import email\n",
    "\n",
    "# Removes header from email if present\n",
    "def get_body():\n",
    "    if msg.is_multipart():\n",
    "        for payload in msg.get_payload():\n",
    "            # if payload.is_multipart(): ...\n",
    "            return payload.get_payload()\n",
    "    else:\n",
    "        return msg.get_payload()\n",
    "\n",
    "# Returns text containing only words (lowercase)\n",
    "def remove_extras(text):\n",
    "    brackets = \"\\([^)]*\\)\"\n",
    "    email_address = \"([\\w.-]+)@([\\w.-]+)\"\n",
    "    web_address = \"http[s]?://(?:[a-zA-Z]|[0-9]|[$-_@.&+]|[!*\\(\\),]|(?:%[0-9a-fA-F][0-9a-fA-F]))+\"\n",
    "    numbers = \"\\d+\"\n",
    "    alphanumeric = \"([^\\s\\w]|_)+\"\n",
    "    whitespace = \"\\s+\"\n",
    "\n",
    "    text = re.sub(email_address, '', text)\n",
    "    text = re.sub(web_address, '', text)\n",
    "    text = re.sub(numbers, '', text)\n",
    "    text = re.sub(alphanumeric, '', text)\n",
    "    text = re.sub(whitespace, ' ', text).strip()\n",
    "    text = text.lower() # Lowercase\n",
    "    return text\n",
    "\n",
    "\n",
    "def filter_part1(email): \n",
    "    message = get_body()\n",
    "    message = remove_extras(message)\n",
    "    return message\n",
    "\n",
    "\n",
    "# ---------------------\n",
    "\n",
    "\n",
    "\n",
    "with open('training_data/ham068.txt') as f:\n",
    "    text_test = f.read()\n",
    "\n",
    "msg = email.message_from_string(text_test)\n",
    "\n",
    "print(filter_part1(msg))\n",
    "\n",
    "\n",
    "\n",
    "\n",
    "\n"
   ]
  },
  {
   "cell_type": "markdown",
   "metadata": {},
   "source": [
    "** Part 1 Filtering"
   ]
  },
  {
   "cell_type": "code",
   "execution_count": 105,
   "metadata": {
    "collapsed": false
   },
   "outputs": [
    {
     "data": {
      "text/plain": [
       "u'Paul Linehan<plinehan@yahoo.com>'"
      ]
     },
     "execution_count": 105,
     "metadata": {},
     "output_type": "execute_result"
    }
   ],
   "source": [
    "from email.header import decode_header\n",
    "def getheader(header_text, default=\"ascii\"):\n",
    "    \"\"\"Decode the specified header\"\"\"\n",
    "\n",
    "    headers = decode_header(header_text)\n",
    "    header_sections = [unicode(text, charset or default)\n",
    "                       for text, charset in headers]\n",
    "    return u\"\".join(header_sections)\n",
    "\n",
    "\n",
    "getheader(msg[\"from\"])"
   ]
  },
  {
   "cell_type": "code",
   "execution_count": null,
   "metadata": {
    "collapsed": true
   },
   "outputs": [],
   "source": []
  }
 ],
 "metadata": {
  "anaconda-cloud": {},
  "kernelspec": {
   "display_name": "Python 2",
   "language": "python",
   "name": "python2"
  },
  "language_info": {
   "codemirror_mode": {
    "name": "ipython",
    "version": 2
   },
   "file_extension": ".py",
   "mimetype": "text/x-python",
   "name": "python",
   "nbconvert_exporter": "python",
   "pygments_lexer": "ipython2",
   "version": "2.7.12"
  }
 },
 "nbformat": 4,
 "nbformat_minor": 1
}
