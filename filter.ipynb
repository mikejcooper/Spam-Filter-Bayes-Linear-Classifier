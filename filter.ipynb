{
 "cells": [
  {
   "cell_type": "markdown",
   "metadata": {},
   "source": [
    "# Assignment : Spam Filter\n",
    "## Description\n",
    "This assignment is near-final modulo some small adjustments (6 Nov '16)\n",
    "In this assignment, you will discover that in many practical machine learning problems implementing the learning algorithm is often only a small part of the overall system. Thus to get a high mark for this assignment you need to implement any of the more advanced classification techniques or clever pre-processing methods. You will find plenty of them on the internet. If you do not know where to look for them, ask Google ;-).\n",
    "\n",
    "Here your task is to build the standard (i.e. multinomial) Naive Bayes text classifier described during the lectures. You should test your program using the automatic marking software (described below), so it is critically important that it follows the specifications in detail.\n",
    "\n",
    "You will train your classifier on real-world e-mails, which you can download from here. Each training e-mail is stored in a separate file. The names of spam training e-mails start with spam, while the names of ham e-mails start with ham.\n",
    "\n",
    "## Marking criteria\n",
    "\n",
    "Part 1 (40%):\n",
    "    - Your program classifies the testing set with an accuracy significantly higher than random within 30 minutes\n",
    "    - Use very simple data preprocessing so that the emails can be read into the Naive Bayes (remove everything else other than words from emails)\n",
    "    - Write simple Naive Bayes multinomial classifier or use an implementation from a library of your choice\n",
    "    - Classify the data\n",
    "    - Report your results with a metric (e.g. accuracy) and method (e.g. cross validation) of your choice\n",
    "    - Choose a baseline and compare your classifier against it\n",
    "\n",
    "Part 2 (30%):\n",
    "    - Use some smart feature processing techniques to improve the classification results\n",
    "    - Compare the classification results with and without these techniques\n",
    "    - Analyse how the classification results depend on the parameters (if available) of chosen techniques\n",
    "    - Compare (statistically) your results against any other algorithm of your choice (use can use any library); compare and contrast results, ensure fair comparison\n",
    "\n",
    "Part 3 (30%):\n",
    "    - Calibration (15%): calibrate Naive Bayes probabilities, such that they result in low mean squared error\n",
    "    - Naive Bayes extension (15%): modify the algorithm in some interesting way (e.g. weighted Naive Bayes)"
   ]
  },
  {
   "cell_type": "code",
   "execution_count": 11,
   "metadata": {
    "collapsed": false
   },
   "outputs": [],
   "source": [
    "# Import all necessary packages\n",
    "import math\n",
    "import numpy as np\n",
    "import pandas as pd\n",
    "\n",
    "import os, re\n",
    "\n",
    "\n"
   ]
  },
  {
   "cell_type": "markdown",
   "metadata": {
    "collapsed": true
   },
   "source": [
    "** Convert from .ipynb to .py : ** $ ipython nbconvert --to python filter.ipynb\n",
    "\n",
    "\n",
    "** LAST COURSEWORK BELOW **"
   ]
  },
  {
   "cell_type": "code",
   "execution_count": 104,
   "metadata": {
    "collapsed": false
   },
   "outputs": [
    {
     "name": "stdout",
     "output_type": "stream",
     "text": [
      "=?iso-8859-1?q?Paul=20Linehan?= <plinehan@yahoo.com>\n"
     ]
    }
   ],
   "source": [
    "import email\n",
    "\n",
    "with open('training_data/ham068.txt') as f:\n",
    "    text_test = f.read()\n",
    "\n",
    "msg = email.message_from_string(text_test)\n",
    "\n",
    "\n",
    "# Removes header from email if present\n",
    "def get_body():\n",
    "    if msg.is_multipart():\n",
    "        for payload in msg.get_payload():\n",
    "            # if payload.is_multipart(): ...\n",
    "            return payload.get_payload()\n",
    "    else:\n",
    "        return msg.get_payload()\n",
    "\n",
    "# Returns text containing only words (lowercase)\n",
    "def remove_extras(text):\n",
    "    brackets = \"\\([^)]*\\)\"\n",
    "    email_address = \"([\\w.-]+)@([\\w.-]+)\"\n",
    "    web_address = \"http[s]?://(?:[a-zA-Z]|[0-9]|[$-_@.&+]|[!*\\(\\),]|(?:%[0-9a-fA-F][0-9a-fA-F]))+\"\n",
    "    numbers = \"\\d+\"\n",
    "    alphanumeric = \"([^\\s\\w]|_)+\"\n",
    "    whitespace = \"\\s+\"\n",
    "\n",
    "    text = re.sub(email_address, '', text)\n",
    "    text = re.sub(web_address, '', text)\n",
    "    text = re.sub(numbers, '', text)\n",
    "    text = re.sub(alphanumeric, '', text)\n",
    "    text = re.sub(whitespace, ' ', text).strip()\n",
    "    text = text.lower() # Lowercase\n",
    "    return text\n",
    "\n",
    "    \n",
    "message = get_body()\n",
    "message = remove_extras(message)\n",
    "\n",
    "\n",
    "\n",
    "\n",
    "print(msg[\"from\"])\n",
    "\n",
    "\n",
    "\n",
    "\n",
    "\n"
   ]
  },
  {
   "cell_type": "code",
   "execution_count": 105,
   "metadata": {
    "collapsed": false
   },
   "outputs": [
    {
     "data": {
      "text/plain": [
       "u'Paul Linehan<plinehan@yahoo.com>'"
      ]
     },
     "execution_count": 105,
     "metadata": {},
     "output_type": "execute_result"
    }
   ],
   "source": [
    "from email.header import decode_header\n",
    "def getheader(header_text, default=\"ascii\"):\n",
    "    \"\"\"Decode the specified header\"\"\"\n",
    "\n",
    "    headers = decode_header(header_text)\n",
    "    header_sections = [unicode(text, charset or default)\n",
    "                       for text, charset in headers]\n",
    "    return u\"\".join(header_sections)\n",
    "\n",
    "\n",
    "getheader(msg[\"from\"])"
   ]
  },
  {
   "cell_type": "code",
   "execution_count": null,
   "metadata": {
    "collapsed": true
   },
   "outputs": [],
   "source": []
  }
 ],
 "metadata": {
  "anaconda-cloud": {},
  "kernelspec": {
   "display_name": "Python 2",
   "language": "python",
   "name": "python2"
  },
  "language_info": {
   "codemirror_mode": {
    "name": "ipython",
    "version": 2
   },
   "file_extension": ".py",
   "mimetype": "text/x-python",
   "name": "python",
   "nbconvert_exporter": "python",
   "pygments_lexer": "ipython2",
   "version": "2.7.12"
  }
 },
 "nbformat": 4,
 "nbformat_minor": 1
}
